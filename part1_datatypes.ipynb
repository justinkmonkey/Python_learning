{
 "cells": [
  {
   "cell_type": "code",
   "execution_count": null,
   "id": "689f9306",
   "metadata": {
    "vscode": {
     "languageId": "plaintext"
    }
   },
   "outputs": [],
   "source": [
    "print('hellow')"
   ]
  },
  {
   "cell_type": "code",
   "execution_count": null,
   "id": "08a58289",
   "metadata": {
    "vscode": {
     "languageId": "plaintext"
    }
   },
   "outputs": [],
   "source": []
  }
 ],
 "metadata": {
  "language_info": {
   "name": "python"
  }
 },
 "nbformat": 4,
 "nbformat_minor": 5
}

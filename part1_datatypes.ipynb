{
 "cells": [
  {
   "cell_type": "code",
   "execution_count": 2,
   "id": "689f9306",
   "metadata": {},
   "outputs": [
    {
     "name": "stdout",
     "output_type": "stream",
     "text": [
      "hello\n"
     ]
    }
   ],
   "source": [
    "print('hello')"
   ]
  },
  {
   "cell_type": "code",
   "execution_count": 3,
   "id": "1838df7f",
   "metadata": {},
   "outputs": [
    {
     "name": "stdout",
     "output_type": "stream",
     "text": [
      "0\n",
      "1\n",
      "2\n",
      "3\n",
      "4\n",
      "5\n",
      "6\n",
      "7\n",
      "8\n",
      "9\n"
     ]
    }
   ],
   "source": [
    "for i in range(10):\n",
    "    print(i)"
   ]
  },
  {
   "cell_type": "code",
   "execution_count": 19,
   "id": "3dc3ed80",
   "metadata": {},
   "outputs": [],
   "source": [
    "class Cat():\n",
    "    def __init__(self,name,color,status,mood):\n",
    "        self.name = name\n",
    "        self.color = color\n",
    "        self.status = status\n",
    "        self.mood = mood\n",
    "    def what_cat_doing(self):\n",
    "        print(f'{self.name} is having mood {self.mood} and is {self.status}')\n",
    "    def change_status(self,new_status):\n",
    "        self.status = new_status"
   ]
  },
  {
   "cell_type": "code",
   "execution_count": 16,
   "id": "8bd5499f",
   "metadata": {},
   "outputs": [],
   "source": [
    "c1 = Cat('alpha','red','sleeping','tired')"
   ]
  },
  {
   "cell_type": "code",
   "execution_count": 18,
   "id": "960fe906",
   "metadata": {},
   "outputs": [
    {
     "name": "stdout",
     "output_type": "stream",
     "text": [
      "alpha is having mood tired and is wke up\n",
      "alpha is having mood tired and is woke up\n"
     ]
    }
   ],
   "source": [
    "c1.what_cat_doing()\n",
    "c1.change_status('woke up')\n",
    "c1.what_cat_doing()"
   ]
  },
  {
   "cell_type": "code",
   "execution_count": 8,
   "id": "824f85e6",
   "metadata": {},
   "outputs": [],
   "source": [
    "c2 = Cat(\n",
    "    'beta','orange','running','angy'\n",
    ")"
   ]
  },
  {
   "cell_type": "code",
   "execution_count": 9,
   "id": "aa2e580c",
   "metadata": {},
   "outputs": [
    {
     "name": "stdout",
     "output_type": "stream",
     "text": [
      "beta is having mood angy and is running\n"
     ]
    }
   ],
   "source": [
    "c2.what_cat_doing()"
   ]
  },
  {
   "cell_type": "code",
   "execution_count": null,
   "id": "cf88d107",
   "metadata": {},
   "outputs": [],
   "source": []
  }
 ],
 "metadata": {
  "kernelspec": {
   "display_name": "Python 3",
   "language": "python",
   "name": "python3"
  },
  "language_info": {
   "codemirror_mode": {
    "name": "ipython",
    "version": 3
   },
   "file_extension": ".py",
   "mimetype": "text/x-python",
   "name": "python",
   "nbconvert_exporter": "python",
   "pygments_lexer": "ipython3",
   "version": "3.13.2"
  }
 },
 "nbformat": 4,
 "nbformat_minor": 5
}
